{
 "cells": [
  {
   "attachments": {},
   "cell_type": "markdown",
   "metadata": {},
   "source": [
    "![boeing](https://upload.wikimedia.org/wikipedia/commons/f/f2/Air-India_Boeing_707-400_Manteufel.jpg)\n",
    "A beautiful Boeing aircraft."
   ]
  }
 ],
 "metadata": {
  "kernelspec": {
   "display_name": "bw25arm",
   "language": "python",
   "name": "python3"
  },
  "language_info": {
   "codemirror_mode": {
    "name": "ipython",
    "version": 3
   },
   "file_extension": ".py",
   "mimetype": "text/x-python",
   "name": "python",
   "nbconvert_exporter": "python",
   "pygments_lexer": "ipython3",
   "version": "3.11.3"
  },
  "orig_nbformat": 4
 },
 "nbformat": 4,
 "nbformat_minor": 2
}
